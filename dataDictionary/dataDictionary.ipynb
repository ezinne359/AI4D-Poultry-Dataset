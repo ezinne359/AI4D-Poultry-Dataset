{
 "cells": [
  {
   "cell_type": "markdown",
   "metadata": {},
   "source": [
    "### Guide\n",
    "1. A data dictionary should be made for the collected data. Each column should have a description of how it was obtained and/or computed.\n",
    "2. A description of the device used in capturing the data must also be given; most especially, the camera specification.\n",
    "3. The date and time fields should be separated. This will make date time computations better and easier\n",
    "4. The time field should use a proper timestamp data format.\n",
    "5. In the data dictionary, the time zone for the location of the project should be given\n",
    "6. The storage of the images on google seems to be nice. However, it could also be advised that the images be stored on data repositories such as Kaggle for a better visibility.\n",
    "7. If you are having a challenge getting datasets, you might explore the possibility of incentivizing data collection from poultry farms. This will ease the process and faster\n",
    "8. Consider classifying the datasets collected into their respective diseases."
   ]
  },
  {
   "cell_type": "code",
   "execution_count": 2,
   "metadata": {},
   "outputs": [],
   "source": [
    "from sklearn.datasets import load_iris"
   ]
  },
  {
   "cell_type": "code",
   "execution_count": 9,
   "metadata": {},
   "outputs": [
    {
     "data": {
      "text/plain": [
       "dict_keys(['data', 'target', 'frame', 'target_names', 'DESCR', 'feature_names', 'filename'])"
      ]
     },
     "execution_count": 9,
     "metadata": {},
     "output_type": "execute_result"
    }
   ],
   "source": [
    "datairis = load_iris()\n",
    "datairis.keys()"
   ]
  },
  {
   "cell_type": "code",
   "execution_count": 20,
   "metadata": {},
   "outputs": [
    {
     "data": {
      "text/plain": [
       "'.. _iris_dataset:\\n\\nIris plants dataset\\n--------------------\\n\\n**Data Set Characteristics:**\\n\\n    :Number of Instances: 150 (50 in each of three classes)\\n    :Number of Attributes: 4 numeric, predictive attributes and the class\\n    :Attribute Information:\\n        - sepal length in cm\\n        - sepal width in cm\\n        - petal length in cm\\n        - petal width in cm\\n        - class:\\n                - Iris-Setosa\\n                - Iris-Versicolour\\n                - Iris-Virginica\\n                \\n    :Summary Statistics:\\n\\n    ============== ==== ==== ======= ===== ====================\\n                    Min  Max   Mean    SD   Class Correlation\\n    ============== ==== ==== ======= ===== ====================\\n    sepal length:   4.3  7.9   5.84   0.83    0.7826\\n    sepal width:    2.0  4.4   3.05   0.43   -0.4194\\n    petal length:   1.0  6.9   3.76   1.76    0.9490  (high!)\\n    petal width:    0.1  2.5   1.20   0.76    0.9565  (high!)\\n    ============== ==== ==== ======= ===== ====================\\n\\n    :Missing Attribute Values: None\\n    :Class Distribution: 33.3% for each of 3 classes.\\n    :Creator: R.A. Fisher\\n    :Donor: Michael Marshall (MARSHALL%PLU@io.arc.nasa.gov)\\n    :Date: July, 1988\\n\\nThe famous Iris database, first used by Sir R.A. Fisher. The dataset is taken\\nfrom Fisher\\'s paper. Note that it\\'s the same as in R, but not as in the UCI\\nMachine Learning Repository, which has two wrong data points.\\n\\nThis is perhaps the best known database to be found in the\\npattern recognition literature.  Fisher\\'s paper is a classic in the field and\\nis referenced frequently to this day.  (See Duda & Hart, for example.)  The\\ndata set contains 3 classes of 50 instances each, where each class refers to a\\ntype of iris plant.  One class is linearly separable from the other 2; the\\nlatter are NOT linearly separable from each other.\\n\\n.. topic:: References\\n\\n   - Fisher, R.A. \"The use of multiple measurements in taxonomic problems\"\\n     Annual Eugenics, 7, Part II, 179-188 (1936); also in \"Contributions to\\n     Mathematical Statistics\" (John Wiley, NY, 1950).\\n   - Duda, R.O., & Hart, P.E. (1973) Pattern Classification and Scene Analysis.\\n     (Q327.D83) John Wiley & Sons.  ISBN 0-471-22361-1.  See page 218.\\n   - Dasarathy, B.V. (1980) \"Nosing Around the Neighborhood: A New System\\n     Structure and Classification Rule for Recognition in Partially Exposed\\n     Environments\".  IEEE Transactions on Pattern Analysis and Machine\\n     Intelligence, Vol. PAMI-2, No. 1, 67-71.\\n   - Gates, G.W. (1972) \"The Reduced Nearest Neighbor Rule\".  IEEE Transactions\\n     on Information Theory, May 1972, 431-433.\\n   - See also: 1988 MLC Proceedings, 54-64.  Cheeseman et al\"s AUTOCLASS II\\n     conceptual clustering system finds 3 classes in the data.\\n   - Many, many more ...'"
      ]
     },
     "execution_count": 20,
     "metadata": {},
     "output_type": "execute_result"
    }
   ],
   "source": [
    "datairis['DESCR']"
   ]
  },
  {
   "cell_type": "code",
   "execution_count": 1,
   "metadata": {},
   "outputs": [],
   "source": [
    "import pandas as pd\n",
    "import numpy as np\n",
    "import matplotlib.pyplot as plt\n",
    "import seaborn as sns"
   ]
  },
  {
   "cell_type": "code",
   "execution_count": 1,
   "metadata": {},
   "outputs": [
    {
     "ename": "NameError",
     "evalue": "name 'pd' is not defined",
     "output_type": "error",
     "traceback": [
      "\u001b[0;31m---------------------------------------------------------------------------\u001b[0m",
      "\u001b[0;31mNameError\u001b[0m                                 Traceback (most recent call last)",
      "\u001b[0;32m<ipython-input-1-7a804e76db9d>\u001b[0m in \u001b[0;36m<module>\u001b[0;34m\u001b[0m\n\u001b[0;32m----> 1\u001b[0;31m \u001b[0mrawdf\u001b[0m \u001b[0;34m=\u001b[0m \u001b[0mpd\u001b[0m\u001b[0;34m.\u001b[0m\u001b[0mread_csv\u001b[0m\u001b[0;34m(\u001b[0m\u001b[0;34m\"geocoded.csv\"\u001b[0m\u001b[0;34m)\u001b[0m\u001b[0;34m\u001b[0m\u001b[0m\n\u001b[0m\u001b[1;32m      2\u001b[0m \u001b[0mrawdf\u001b[0m\u001b[0;34m.\u001b[0m\u001b[0mhead\u001b[0m\u001b[0;34m(\u001b[0m\u001b[0;34m)\u001b[0m\u001b[0;34m\u001b[0m\u001b[0m\n",
      "\u001b[0;31mNameError\u001b[0m: name 'pd' is not defined"
     ]
    }
   ],
   "source": [
    "rawdf = pd.read_csv(\"geocoded.csv\")\n",
    "rawdf.head()"
   ]
  },
  {
   "cell_type": "code",
   "execution_count": 16,
   "metadata": {},
   "outputs": [
    {
     "data": {
      "text/plain": [
       "data-fid-start            object\n",
       "data-fid-end              object\n",
       "data-fid-today            object\n",
       "data-fid-deviceid          int64\n",
       "data-fid-img              object\n",
       "data-fid-imgtype          object\n",
       "data-fid-imgtype_other    object\n",
       "data-fid-obs              object\n",
       "data-fid-gps              object\n",
       "data-fid-gps-altitude     object\n",
       "data-fid-gps-accuracy     object\n",
       "data-meta-instanceID      object\n",
       "dtype: object"
      ]
     },
     "execution_count": 16,
     "metadata": {},
     "output_type": "execute_result"
    }
   ],
   "source": [
    "rawdf.dtypes"
   ]
  },
  {
   "cell_type": "code",
   "execution_count": 84,
   "metadata": {},
   "outputs": [
    {
     "data": {
      "text/html": [
       "<div>\n",
       "<style scoped>\n",
       "    .dataframe tbody tr th:only-of-type {\n",
       "        vertical-align: middle;\n",
       "    }\n",
       "\n",
       "    .dataframe tbody tr th {\n",
       "        vertical-align: top;\n",
       "    }\n",
       "\n",
       "    .dataframe thead th {\n",
       "        text-align: right;\n",
       "    }\n",
       "</style>\n",
       "<table border=\"1\" class=\"dataframe\">\n",
       "  <thead>\n",
       "    <tr style=\"text-align: right;\">\n",
       "      <th></th>\n",
       "      <th>data-fid-start</th>\n",
       "      <th>data-fid-end</th>\n",
       "      <th>data-fid-today</th>\n",
       "      <th>data-fid-deviceid</th>\n",
       "      <th>data-fid-img</th>\n",
       "      <th>data-fid-imgtype</th>\n",
       "      <th>data-fid-imgtype_other</th>\n",
       "      <th>data-fid-obs</th>\n",
       "      <th>data-fid-gps</th>\n",
       "      <th>data-fid-gps-altitude</th>\n",
       "      <th>data-fid-gps-accuracy</th>\n",
       "      <th>data-meta-instanceID</th>\n",
       "    </tr>\n",
       "  </thead>\n",
       "  <tbody>\n",
       "    <tr>\n",
       "      <th>3569</th>\n",
       "      <td>9/11/2020 16:55:00</td>\n",
       "      <td>9/11/2020 16:55:00</td>\n",
       "      <td>9/11/2020</td>\n",
       "      <td>359044064548618</td>\n",
       "      <td>https://drive.google.com/open?id=1vqlDvRnoUjZM...</td>\n",
       "      <td>healthy</td>\n",
       "      <td></td>\n",
       "      <td></td>\n",
       "      <td>-3.35845752,36.71405857</td>\n",
       "      <td>1454</td>\n",
       "      <td>5</td>\n",
       "      <td>uuid:ca209b25-ead3-47bf-92d5-2e5db8e95493</td>\n",
       "    </tr>\n",
       "    <tr>\n",
       "      <th>3570</th>\n",
       "      <td>9/11/2020 16:56:00</td>\n",
       "      <td>9/11/2020 16:56:00</td>\n",
       "      <td>9/11/2020</td>\n",
       "      <td>359044064548618</td>\n",
       "      <td>https://drive.google.com/open?id=1lVh0MKvVXyYJ...</td>\n",
       "      <td>healthy</td>\n",
       "      <td></td>\n",
       "      <td></td>\n",
       "      <td>-3.35844178,36.71406684</td>\n",
       "      <td>1451</td>\n",
       "      <td>4</td>\n",
       "      <td>uuid:032f1a5c-c058-4bf3-87a7-9db5f3a27d90</td>\n",
       "    </tr>\n",
       "    <tr>\n",
       "      <th>3571</th>\n",
       "      <td>9/11/2020 16:56:00</td>\n",
       "      <td>9/11/2020 16:57:00</td>\n",
       "      <td>9/11/2020</td>\n",
       "      <td>359044064548618</td>\n",
       "      <td>https://drive.google.com/open?id=1zlFH9t_09_0E...</td>\n",
       "      <td>healthy</td>\n",
       "      <td></td>\n",
       "      <td></td>\n",
       "      <td>-3.35844316,36.71407095</td>\n",
       "      <td>1452</td>\n",
       "      <td>5</td>\n",
       "      <td>uuid:c298ffcb-487a-4be8-976b-9d985cacebd2</td>\n",
       "    </tr>\n",
       "    <tr>\n",
       "      <th>3572</th>\n",
       "      <td>9/11/2020 16:57:00</td>\n",
       "      <td>9/11/2020 16:57:00</td>\n",
       "      <td>9/11/2020</td>\n",
       "      <td>359044064548618</td>\n",
       "      <td>https://drive.google.com/open?id=1Jtj6AtEHIUKf...</td>\n",
       "      <td>healthy</td>\n",
       "      <td></td>\n",
       "      <td></td>\n",
       "      <td>-3.3584389,36.71406666</td>\n",
       "      <td>1454</td>\n",
       "      <td>5</td>\n",
       "      <td>uuid:f06c12a5-74bf-480d-9c8c-0faec45bb9f9</td>\n",
       "    </tr>\n",
       "    <tr>\n",
       "      <th>3573</th>\n",
       "      <td>9/11/2020 11:32:00</td>\n",
       "      <td>9/11/2020 11:33:00</td>\n",
       "      <td>9/11/2020</td>\n",
       "      <td>359044064548618</td>\n",
       "      <td>https://drive.google.com/open?id=1Aqho4WACyES0...</td>\n",
       "      <td>healthy</td>\n",
       "      <td></td>\n",
       "      <td></td>\n",
       "      <td>-3.35835982,36.71394597</td>\n",
       "      <td>1425</td>\n",
       "      <td>5</td>\n",
       "      <td>uuid:d1f44e6a-ee84-44fb-a25f-0e3da407c468</td>\n",
       "    </tr>\n",
       "  </tbody>\n",
       "</table>\n",
       "</div>"
      ],
      "text/plain": [
       "          data-fid-start        data-fid-end data-fid-today  \\\n",
       "3569  9/11/2020 16:55:00  9/11/2020 16:55:00      9/11/2020   \n",
       "3570  9/11/2020 16:56:00  9/11/2020 16:56:00      9/11/2020   \n",
       "3571  9/11/2020 16:56:00  9/11/2020 16:57:00      9/11/2020   \n",
       "3572  9/11/2020 16:57:00  9/11/2020 16:57:00      9/11/2020   \n",
       "3573  9/11/2020 11:32:00  9/11/2020 11:33:00      9/11/2020   \n",
       "\n",
       "      data-fid-deviceid                                       data-fid-img  \\\n",
       "3569    359044064548618  https://drive.google.com/open?id=1vqlDvRnoUjZM...   \n",
       "3570    359044064548618  https://drive.google.com/open?id=1lVh0MKvVXyYJ...   \n",
       "3571    359044064548618  https://drive.google.com/open?id=1zlFH9t_09_0E...   \n",
       "3572    359044064548618  https://drive.google.com/open?id=1Jtj6AtEHIUKf...   \n",
       "3573    359044064548618  https://drive.google.com/open?id=1Aqho4WACyES0...   \n",
       "\n",
       "     data-fid-imgtype data-fid-imgtype_other data-fid-obs  \\\n",
       "3569          healthy                                       \n",
       "3570          healthy                                       \n",
       "3571          healthy                                       \n",
       "3572          healthy                                       \n",
       "3573          healthy                                       \n",
       "\n",
       "                 data-fid-gps data-fid-gps-altitude data-fid-gps-accuracy  \\\n",
       "3569  -3.35845752,36.71405857                  1454                     5   \n",
       "3570  -3.35844178,36.71406684                  1451                     4   \n",
       "3571  -3.35844316,36.71407095                  1452                     5   \n",
       "3572   -3.3584389,36.71406666                  1454                     5   \n",
       "3573  -3.35835982,36.71394597                  1425                     5   \n",
       "\n",
       "                           data-meta-instanceID  \n",
       "3569  uuid:ca209b25-ead3-47bf-92d5-2e5db8e95493  \n",
       "3570  uuid:032f1a5c-c058-4bf3-87a7-9db5f3a27d90  \n",
       "3571  uuid:c298ffcb-487a-4be8-976b-9d985cacebd2  \n",
       "3572  uuid:f06c12a5-74bf-480d-9c8c-0faec45bb9f9  \n",
       "3573  uuid:d1f44e6a-ee84-44fb-a25f-0e3da407c468  "
      ]
     },
     "execution_count": 84,
     "metadata": {},
     "output_type": "execute_result"
    }
   ],
   "source": [
    "rawdf.tail()"
   ]
  },
  {
   "cell_type": "code",
   "execution_count": 101,
   "metadata": {},
   "outputs": [
    {
     "data": {
      "text/plain": [
       "(3574, 12)"
      ]
     },
     "execution_count": 101,
     "metadata": {},
     "output_type": "execute_result"
    }
   ],
   "source": [
    "rawdf.shape"
   ]
  },
  {
   "cell_type": "code",
   "execution_count": 102,
   "metadata": {},
   "outputs": [
    {
     "data": {
      "text/plain": [
       "541"
      ]
     },
     "execution_count": 102,
     "metadata": {},
     "output_type": "execute_result"
    }
   ],
   "source": [
    "#no of records without geocodes\n",
    "sum(rawdf['data-fid-gps'].loc[:]==' ')"
   ]
  },
  {
   "cell_type": "code",
   "execution_count": 103,
   "metadata": {},
   "outputs": [],
   "source": [
    "#save them externally \n",
    "notgeocod = rawdf[rawdf['data-fid-gps']==' ']\n",
    "notgeocod.to_csv('notgeocoded.csv',index=False)"
   ]
  },
  {
   "cell_type": "code",
   "execution_count": 104,
   "metadata": {},
   "outputs": [
    {
     "data": {
      "text/plain": [
       "(541, 12)"
      ]
     },
     "execution_count": 104,
     "metadata": {},
     "output_type": "execute_result"
    }
   ],
   "source": [
    "notgeocodf = pd.read_csv('notgeocoded.csv')\n",
    "notgeocodf.shape"
   ]
  },
  {
   "cell_type": "code",
   "execution_count": 89,
   "metadata": {},
   "outputs": [
    {
     "data": {
      "text/html": [
       "<div>\n",
       "<style scoped>\n",
       "    .dataframe tbody tr th:only-of-type {\n",
       "        vertical-align: middle;\n",
       "    }\n",
       "\n",
       "    .dataframe tbody tr th {\n",
       "        vertical-align: top;\n",
       "    }\n",
       "\n",
       "    .dataframe thead th {\n",
       "        text-align: right;\n",
       "    }\n",
       "</style>\n",
       "<table border=\"1\" class=\"dataframe\">\n",
       "  <thead>\n",
       "    <tr style=\"text-align: right;\">\n",
       "      <th></th>\n",
       "      <th>data-fid-start</th>\n",
       "      <th>data-fid-end</th>\n",
       "      <th>data-fid-today</th>\n",
       "      <th>data-fid-deviceid</th>\n",
       "      <th>data-fid-img</th>\n",
       "      <th>data-fid-imgtype</th>\n",
       "      <th>data-fid-imgtype_other</th>\n",
       "      <th>data-fid-obs</th>\n",
       "      <th>data-fid-gps</th>\n",
       "      <th>data-fid-gps-altitude</th>\n",
       "      <th>data-fid-gps-accuracy</th>\n",
       "      <th>data-meta-instanceID</th>\n",
       "    </tr>\n",
       "  </thead>\n",
       "  <tbody>\n",
       "    <tr>\n",
       "      <th>0</th>\n",
       "      <td>15/09/20 08:01</td>\n",
       "      <td>15/09/20 08:37</td>\n",
       "      <td>15/09/20</td>\n",
       "      <td>355329114698347</td>\n",
       "      <td>https://drive.google.com/open?id=1Icw1qTWsMQi5...</td>\n",
       "      <td>coccid</td>\n",
       "      <td></td>\n",
       "      <td></td>\n",
       "      <td></td>\n",
       "      <td></td>\n",
       "      <td></td>\n",
       "      <td>uuid:bbc6c2f8-a014-43f7-b28c-7f9e8aadf56f</td>\n",
       "    </tr>\n",
       "    <tr>\n",
       "      <th>1</th>\n",
       "      <td>15/09/20 08:38</td>\n",
       "      <td>15/09/20 18:02</td>\n",
       "      <td>15/09/20</td>\n",
       "      <td>355329114698347</td>\n",
       "      <td>https://drive.google.com/open?id=1HPmdHeUqMakm...</td>\n",
       "      <td>coccid</td>\n",
       "      <td></td>\n",
       "      <td></td>\n",
       "      <td></td>\n",
       "      <td></td>\n",
       "      <td></td>\n",
       "      <td>uuid:3587fcc7-e77a-4534-bbdf-678c11816a1d</td>\n",
       "    </tr>\n",
       "    <tr>\n",
       "      <th>2</th>\n",
       "      <td>15/09/20 18:02</td>\n",
       "      <td>15/09/20 18:03</td>\n",
       "      <td>15/09/20</td>\n",
       "      <td>355329114698347</td>\n",
       "      <td>https://drive.google.com/open?id=1TZ41Vf_GChZG...</td>\n",
       "      <td>coccid</td>\n",
       "      <td></td>\n",
       "      <td></td>\n",
       "      <td></td>\n",
       "      <td></td>\n",
       "      <td></td>\n",
       "      <td>uuid:bccfa7c7-1514-4b50-81d6-1c6217b824b6</td>\n",
       "    </tr>\n",
       "    <tr>\n",
       "      <th>3</th>\n",
       "      <td>16/09/20 06:57</td>\n",
       "      <td>16/09/20 06:58</td>\n",
       "      <td>16/09/20</td>\n",
       "      <td>355329114698347</td>\n",
       "      <td>https://drive.google.com/open?id=1N4qdtA7d5VMI...</td>\n",
       "      <td>coccid</td>\n",
       "      <td></td>\n",
       "      <td></td>\n",
       "      <td></td>\n",
       "      <td></td>\n",
       "      <td></td>\n",
       "      <td>uuid:c74d1693-4495-41f7-97ea-e8ea4966b129</td>\n",
       "    </tr>\n",
       "    <tr>\n",
       "      <th>4</th>\n",
       "      <td>16/09/20 06:58</td>\n",
       "      <td>16/09/20 06:58</td>\n",
       "      <td>16/09/20</td>\n",
       "      <td>355329114698347</td>\n",
       "      <td>https://drive.google.com/open?id=1PTvPIhUveywn...</td>\n",
       "      <td>coccid</td>\n",
       "      <td></td>\n",
       "      <td></td>\n",
       "      <td></td>\n",
       "      <td></td>\n",
       "      <td></td>\n",
       "      <td>uuid:c84c5a6d-99e7-4c48-9968-53671666dd73</td>\n",
       "    </tr>\n",
       "  </tbody>\n",
       "</table>\n",
       "</div>"
      ],
      "text/plain": [
       "   data-fid-start    data-fid-end data-fid-today  data-fid-deviceid  \\\n",
       "0  15/09/20 08:01  15/09/20 08:37       15/09/20    355329114698347   \n",
       "1  15/09/20 08:38  15/09/20 18:02       15/09/20    355329114698347   \n",
       "2  15/09/20 18:02  15/09/20 18:03       15/09/20    355329114698347   \n",
       "3  16/09/20 06:57  16/09/20 06:58       16/09/20    355329114698347   \n",
       "4  16/09/20 06:58  16/09/20 06:58       16/09/20    355329114698347   \n",
       "\n",
       "                                        data-fid-img data-fid-imgtype  \\\n",
       "0  https://drive.google.com/open?id=1Icw1qTWsMQi5...           coccid   \n",
       "1  https://drive.google.com/open?id=1HPmdHeUqMakm...           coccid   \n",
       "2  https://drive.google.com/open?id=1TZ41Vf_GChZG...           coccid   \n",
       "3  https://drive.google.com/open?id=1N4qdtA7d5VMI...           coccid   \n",
       "4  https://drive.google.com/open?id=1PTvPIhUveywn...           coccid   \n",
       "\n",
       "  data-fid-imgtype_other data-fid-obs data-fid-gps data-fid-gps-altitude  \\\n",
       "0                                                                          \n",
       "1                                                                          \n",
       "2                                                                          \n",
       "3                                                                          \n",
       "4                                                                          \n",
       "\n",
       "  data-fid-gps-accuracy                       data-meta-instanceID  \n",
       "0                        uuid:bbc6c2f8-a014-43f7-b28c-7f9e8aadf56f  \n",
       "1                        uuid:3587fcc7-e77a-4534-bbdf-678c11816a1d  \n",
       "2                        uuid:bccfa7c7-1514-4b50-81d6-1c6217b824b6  \n",
       "3                        uuid:c74d1693-4495-41f7-97ea-e8ea4966b129  \n",
       "4                        uuid:c84c5a6d-99e7-4c48-9968-53671666dd73  "
      ]
     },
     "execution_count": 89,
     "metadata": {},
     "output_type": "execute_result"
    }
   ],
   "source": [
    "notgeocodf.head()"
   ]
  },
  {
   "cell_type": "code",
   "execution_count": 105,
   "metadata": {},
   "outputs": [
    {
     "data": {
      "text/plain": [
       "(3033, 12)"
      ]
     },
     "execution_count": 105,
     "metadata": {},
     "output_type": "execute_result"
    }
   ],
   "source": [
    "#geocoded images\n",
    "geocodedf = rawdf[rawdf['data-fid-gps'].loc[:]!=' ']\n",
    "geocodedf.shape"
   ]
  },
  {
   "cell_type": "code",
   "execution_count": 106,
   "metadata": {},
   "outputs": [],
   "source": [
    "#save them externally\n",
    "geocodedf.to_csv(\"geocoded.csv\",index=False)"
   ]
  },
  {
   "cell_type": "code",
   "execution_count": 107,
   "metadata": {},
   "outputs": [
    {
     "data": {
      "text/plain": [
       "(3033, 12)"
      ]
     },
     "execution_count": 107,
     "metadata": {},
     "output_type": "execute_result"
    }
   ],
   "source": [
    "geocodedimg = pd.read_csv(\"geocoded.csv\")\n",
    "geocodedimg.shape"
   ]
  },
  {
   "cell_type": "code",
   "execution_count": 93,
   "metadata": {},
   "outputs": [
    {
     "data": {
      "text/html": [
       "<div>\n",
       "<style scoped>\n",
       "    .dataframe tbody tr th:only-of-type {\n",
       "        vertical-align: middle;\n",
       "    }\n",
       "\n",
       "    .dataframe tbody tr th {\n",
       "        vertical-align: top;\n",
       "    }\n",
       "\n",
       "    .dataframe thead th {\n",
       "        text-align: right;\n",
       "    }\n",
       "</style>\n",
       "<table border=\"1\" class=\"dataframe\">\n",
       "  <thead>\n",
       "    <tr style=\"text-align: right;\">\n",
       "      <th></th>\n",
       "      <th>data-fid-start</th>\n",
       "      <th>data-fid-end</th>\n",
       "      <th>data-fid-today</th>\n",
       "      <th>data-fid-deviceid</th>\n",
       "      <th>data-fid-img</th>\n",
       "      <th>data-fid-imgtype</th>\n",
       "      <th>data-fid-imgtype_other</th>\n",
       "      <th>data-fid-obs</th>\n",
       "      <th>data-fid-gps</th>\n",
       "      <th>data-fid-gps-altitude</th>\n",
       "      <th>data-fid-gps-accuracy</th>\n",
       "      <th>data-meta-instanceID</th>\n",
       "    </tr>\n",
       "  </thead>\n",
       "  <tbody>\n",
       "    <tr>\n",
       "      <th>3028</th>\n",
       "      <td>9/11/2020 16:55:00</td>\n",
       "      <td>9/11/2020 16:55:00</td>\n",
       "      <td>9/11/2020</td>\n",
       "      <td>359044064548618</td>\n",
       "      <td>https://drive.google.com/open?id=1vqlDvRnoUjZM...</td>\n",
       "      <td>healthy</td>\n",
       "      <td></td>\n",
       "      <td></td>\n",
       "      <td>-3.35845752,36.71405857</td>\n",
       "      <td>1454.0</td>\n",
       "      <td>5.0</td>\n",
       "      <td>uuid:ca209b25-ead3-47bf-92d5-2e5db8e95493</td>\n",
       "    </tr>\n",
       "    <tr>\n",
       "      <th>3029</th>\n",
       "      <td>9/11/2020 16:56:00</td>\n",
       "      <td>9/11/2020 16:56:00</td>\n",
       "      <td>9/11/2020</td>\n",
       "      <td>359044064548618</td>\n",
       "      <td>https://drive.google.com/open?id=1lVh0MKvVXyYJ...</td>\n",
       "      <td>healthy</td>\n",
       "      <td></td>\n",
       "      <td></td>\n",
       "      <td>-3.35844178,36.71406684</td>\n",
       "      <td>1451.0</td>\n",
       "      <td>4.0</td>\n",
       "      <td>uuid:032f1a5c-c058-4bf3-87a7-9db5f3a27d90</td>\n",
       "    </tr>\n",
       "    <tr>\n",
       "      <th>3030</th>\n",
       "      <td>9/11/2020 16:56:00</td>\n",
       "      <td>9/11/2020 16:57:00</td>\n",
       "      <td>9/11/2020</td>\n",
       "      <td>359044064548618</td>\n",
       "      <td>https://drive.google.com/open?id=1zlFH9t_09_0E...</td>\n",
       "      <td>healthy</td>\n",
       "      <td></td>\n",
       "      <td></td>\n",
       "      <td>-3.35844316,36.71407095</td>\n",
       "      <td>1452.0</td>\n",
       "      <td>5.0</td>\n",
       "      <td>uuid:c298ffcb-487a-4be8-976b-9d985cacebd2</td>\n",
       "    </tr>\n",
       "    <tr>\n",
       "      <th>3031</th>\n",
       "      <td>9/11/2020 16:57:00</td>\n",
       "      <td>9/11/2020 16:57:00</td>\n",
       "      <td>9/11/2020</td>\n",
       "      <td>359044064548618</td>\n",
       "      <td>https://drive.google.com/open?id=1Jtj6AtEHIUKf...</td>\n",
       "      <td>healthy</td>\n",
       "      <td></td>\n",
       "      <td></td>\n",
       "      <td>-3.3584389,36.71406666</td>\n",
       "      <td>1454.0</td>\n",
       "      <td>5.0</td>\n",
       "      <td>uuid:f06c12a5-74bf-480d-9c8c-0faec45bb9f9</td>\n",
       "    </tr>\n",
       "    <tr>\n",
       "      <th>3032</th>\n",
       "      <td>9/11/2020 11:32:00</td>\n",
       "      <td>9/11/2020 11:33:00</td>\n",
       "      <td>9/11/2020</td>\n",
       "      <td>359044064548618</td>\n",
       "      <td>https://drive.google.com/open?id=1Aqho4WACyES0...</td>\n",
       "      <td>healthy</td>\n",
       "      <td></td>\n",
       "      <td></td>\n",
       "      <td>-3.35835982,36.71394597</td>\n",
       "      <td>1425.0</td>\n",
       "      <td>5.0</td>\n",
       "      <td>uuid:d1f44e6a-ee84-44fb-a25f-0e3da407c468</td>\n",
       "    </tr>\n",
       "  </tbody>\n",
       "</table>\n",
       "</div>"
      ],
      "text/plain": [
       "          data-fid-start        data-fid-end data-fid-today  \\\n",
       "3028  9/11/2020 16:55:00  9/11/2020 16:55:00      9/11/2020   \n",
       "3029  9/11/2020 16:56:00  9/11/2020 16:56:00      9/11/2020   \n",
       "3030  9/11/2020 16:56:00  9/11/2020 16:57:00      9/11/2020   \n",
       "3031  9/11/2020 16:57:00  9/11/2020 16:57:00      9/11/2020   \n",
       "3032  9/11/2020 11:32:00  9/11/2020 11:33:00      9/11/2020   \n",
       "\n",
       "      data-fid-deviceid                                       data-fid-img  \\\n",
       "3028    359044064548618  https://drive.google.com/open?id=1vqlDvRnoUjZM...   \n",
       "3029    359044064548618  https://drive.google.com/open?id=1lVh0MKvVXyYJ...   \n",
       "3030    359044064548618  https://drive.google.com/open?id=1zlFH9t_09_0E...   \n",
       "3031    359044064548618  https://drive.google.com/open?id=1Jtj6AtEHIUKf...   \n",
       "3032    359044064548618  https://drive.google.com/open?id=1Aqho4WACyES0...   \n",
       "\n",
       "     data-fid-imgtype data-fid-imgtype_other data-fid-obs  \\\n",
       "3028          healthy                                       \n",
       "3029          healthy                                       \n",
       "3030          healthy                                       \n",
       "3031          healthy                                       \n",
       "3032          healthy                                       \n",
       "\n",
       "                 data-fid-gps  data-fid-gps-altitude  data-fid-gps-accuracy  \\\n",
       "3028  -3.35845752,36.71405857                 1454.0                    5.0   \n",
       "3029  -3.35844178,36.71406684                 1451.0                    4.0   \n",
       "3030  -3.35844316,36.71407095                 1452.0                    5.0   \n",
       "3031   -3.3584389,36.71406666                 1454.0                    5.0   \n",
       "3032  -3.35835982,36.71394597                 1425.0                    5.0   \n",
       "\n",
       "                           data-meta-instanceID  \n",
       "3028  uuid:ca209b25-ead3-47bf-92d5-2e5db8e95493  \n",
       "3029  uuid:032f1a5c-c058-4bf3-87a7-9db5f3a27d90  \n",
       "3030  uuid:c298ffcb-487a-4be8-976b-9d985cacebd2  \n",
       "3031  uuid:f06c12a5-74bf-480d-9c8c-0faec45bb9f9  \n",
       "3032  uuid:d1f44e6a-ee84-44fb-a25f-0e3da407c468  "
      ]
     },
     "execution_count": 93,
     "metadata": {},
     "output_type": "execute_result"
    }
   ],
   "source": [
    "geocodedimg.tail()"
   ]
  },
  {
   "cell_type": "code",
   "execution_count": 108,
   "metadata": {},
   "outputs": [
    {
     "data": {
      "text/plain": [
       "healthy      1775\n",
       "coccid       1231\n",
       "salmo          24\n",
       "newcastle       2\n",
       "                1\n",
       "Name: data-fid-imgtype, dtype: int64"
      ]
     },
     "execution_count": 108,
     "metadata": {},
     "output_type": "execute_result"
    }
   ],
   "source": [
    "#no of images (geocoded) till 9th Nov\n",
    "geocodedimg['data-fid-imgtype'].value_counts()"
   ]
  },
  {
   "cell_type": "code",
   "execution_count": 60,
   "metadata": {},
   "outputs": [
    {
     "data": {
      "text/plain": [
       "data-fid-start             object\n",
       "data-fid-end               object\n",
       "data-fid-today             object\n",
       "data-fid-deviceid           int64\n",
       "data-fid-img               object\n",
       "data-fid-imgtype           object\n",
       "data-fid-imgtype_other     object\n",
       "data-fid-obs               object\n",
       "data-fid-gps               object\n",
       "data-fid-gps-altitude     float64\n",
       "data-fid-gps-accuracy     float64\n",
       "data-meta-instanceID       object\n",
       "dtype: object"
      ]
     },
     "execution_count": 60,
     "metadata": {},
     "output_type": "execute_result"
    }
   ],
   "source": [
    "geocodedimg.dtypes"
   ]
  },
  {
   "cell_type": "code",
   "execution_count": 109,
   "metadata": {},
   "outputs": [
    {
     "data": {
      "text/plain": [
       "'/home/dmachuve/Dropbox/Projects/AI4D_Poultry/AI4DatasetProc'"
      ]
     },
     "execution_count": 109,
     "metadata": {},
     "output_type": "execute_result"
    }
   ],
   "source": [
    "os.getcwd()"
   ]
  },
  {
   "cell_type": "code",
   "execution_count": 110,
   "metadata": {},
   "outputs": [],
   "source": [
    "data_path='/home/dmachuve/Dropbox/Projects/AI4D_Poultry/AI4DatasetProc/rawImages/cocci'"
   ]
  },
  {
   "cell_type": "code",
   "execution_count": 111,
   "metadata": {
    "scrolled": true
   },
   "outputs": [
    {
     "data": {
      "text/plain": [
       "['1_9N1QsVK8MwpOwCuq2eWF5zD_HLKFlYX.jpg',\n",
       " '1A6nyeTPEJlJrzld9scRCLsnEbtIvdR81.jpg',\n",
       " '1AH4QPBtjGmqX6kTfl-GHQ4DfOcLeEGLi.jpg',\n",
       " '1_3YeCKcE2NYmapBhgY25GbzNFTplgrz4.jpg',\n",
       " '1aDoPu48jEQWc92CUZzM3rHamGrkrmr7m.jpg',\n",
       " '1ae05pv2tTLSPlTEi0wTmWpV-9TdGv-bC.jpg',\n",
       " '1-64tN4ep6kWQ-x4Zj6iHvGB_a7ISeBiK.jpg',\n",
       " '1aGUE0uWanB9T7xp2cHSaLq1qXvC-SuoY.jpg',\n",
       " '1aC8vCH5VYWHp3MH609B6mFVSLcu0Vovq.jpg',\n",
       " '1a2ky2bDY4e8RoBVhp-tlpxGNDq_8QDLA.jpg',\n",
       " '1_4FX18jP03cjNd5KXcQWEdviXF8SOIUM.jpg',\n",
       " '1AcF5CdtF8_X0PqEbzhSN7dHYStnhSuoq.jpg',\n",
       " '1a84vDPtebxVCClmF3MlXae3keJB7QahE.jpg',\n",
       " '1A0DYUVr1MCkfK3tNh-ysUbgzzJoi8KCE.jpg',\n",
       " '1ahPYi8ZbzD9pP0ZW4A8EZuYxWhW0q3gp.jpg',\n",
       " '1A3pyO-1yw4Ir42yU890AZgKMj4eKb089.jpg']"
      ]
     },
     "execution_count": 111,
     "metadata": {},
     "output_type": "execute_result"
    }
   ],
   "source": [
    "os.listdir(data_path)"
   ]
  },
  {
   "cell_type": "code",
   "execution_count": 98,
   "metadata": {},
   "outputs": [
    {
     "data": {
      "text/plain": [
       "16"
      ]
     },
     "execution_count": 98,
     "metadata": {},
     "output_type": "execute_result"
    }
   ],
   "source": [
    "len(os.listdir(data_path))"
   ]
  },
  {
   "cell_type": "code",
   "execution_count": 152,
   "metadata": {
    "scrolled": true
   },
   "outputs": [
    {
     "name": "stdout",
     "output_type": "stream",
     "text": [
      "0 1_9N1QsVK8MwpOwCuq2eWF5zD_HLKFlYX\n",
      "1 1_3YeCKcE2NYmapBhgY25GbzNFTplgrz4\n",
      "2 1-64tN4ep6kWQ-x4Zj6iHvGB_a7ISeBiK\n",
      "3 1a2ky2bDY4e8RoBVhp-tlpxGNDq_8QDLA\n",
      "4 1_4FX18jP03cjNd5KXcQWEdviXF8SOIUM\n",
      "5 1a84vDPtebxVCClmF3MlXae3keJB7QahE\n"
     ]
    }
   ],
   "source": [
    "oldimg_filename =[]\n",
    "newimg_filename =[]\n",
    "\n",
    "images_list = os.listdir(data_path)\n",
    "\n",
    "for count, img_filename in enumerate(images_list):\n",
    "    ext = os.path.splitext(img_filename)[1]\n",
    "    oldname = os.path.splitext(img_filename)[0]\n",
    "    print(count,oldname)\n",
    "    #oldimg_filename.append(oldname)\n",
    "   # if ext == '.jpg':\n",
    "    #    src = data_path + '/' + img_filename\n",
    "     #   dst = data_path + '/' + 'cocci.' + str(count) + '.jpg'\n",
    "      #  os.rename(src, dst)  \n",
    "       # newimg_filename.append(dst)\n"
   ]
  },
  {
   "cell_type": "code",
   "execution_count": 164,
   "metadata": {},
   "outputs": [
    {
     "name": "stdout",
     "output_type": "stream",
     "text": [
      "['1_9N1QsVK8MwpOwCuq2eWF5zD_HLKFlYX.jpg', '1_3YeCKcE2NYmapBhgY25GbzNFTplgrz4.jpg', '1-64tN4ep6kWQ-x4Zj6iHvGB_a7ISeBiK.jpg', '1a2ky2bDY4e8RoBVhp-tlpxGNDq_8QDLA.jpg', '1_4FX18jP03cjNd5KXcQWEdviXF8SOIUM.jpg', '1a84vDPtebxVCClmF3MlXae3keJB7QahE.jpg']\n",
      "['cocci.0.jpg', 'cocci.1.jpg', 'cocci.2.jpg', 'cocci.3.jpg', 'cocci.4.jpg', 'cocci.5.jpg']\n"
     ]
    }
   ],
   "source": [
    "#renaming files and reataining the old & new file names\n",
    "import os\n",
    "oldimg_filename =[]\n",
    "newimg_filename =[]\n",
    "\n",
    "images_list = os.listdir(data_path)\n",
    "for count, img_filename in enumerate(images_list):\n",
    "    ext = os.path.splitext(img_filename)[1]\n",
    "    \n",
    "    oldimg_filename.append(img_filename)\n",
    "   \n",
    "    if ext == '.jpg':\n",
    "        newfile = 'cocci.' + str(count) + '.jpg'\n",
    "        src = data_path + '/' + img_filename\n",
    "        dst = data_path + '/' + newfile\n",
    "        os.rename(src, dst)  \n",
    "        newimg_filename.append(newfile)\n",
    "imgdict = {'OldImgName':oldimg_filename,'NewImgName':newimg_filename}\n",
    "imgdf = pd.DataFrame(imgdict)\n",
    "imgdf.to_csv('filenames.csv',index=False)"
   ]
  },
  {
   "cell_type": "code",
   "execution_count": 161,
   "metadata": {},
   "outputs": [
    {
     "data": {
      "text/html": [
       "<div>\n",
       "<style scoped>\n",
       "    .dataframe tbody tr th:only-of-type {\n",
       "        vertical-align: middle;\n",
       "    }\n",
       "\n",
       "    .dataframe tbody tr th {\n",
       "        vertical-align: top;\n",
       "    }\n",
       "\n",
       "    .dataframe thead th {\n",
       "        text-align: right;\n",
       "    }\n",
       "</style>\n",
       "<table border=\"1\" class=\"dataframe\">\n",
       "  <thead>\n",
       "    <tr style=\"text-align: right;\">\n",
       "      <th></th>\n",
       "      <th>OldImgName</th>\n",
       "      <th>NewImgName</th>\n",
       "    </tr>\n",
       "  </thead>\n",
       "  <tbody>\n",
       "    <tr>\n",
       "      <th>0</th>\n",
       "      <td>1_9N1QsVK8MwpOwCuq2eWF5zD_HLKFlYX.jpg</td>\n",
       "      <td>cocci.0.jpg</td>\n",
       "    </tr>\n",
       "    <tr>\n",
       "      <th>1</th>\n",
       "      <td>1_3YeCKcE2NYmapBhgY25GbzNFTplgrz4.jpg</td>\n",
       "      <td>cocci.1.jpg</td>\n",
       "    </tr>\n",
       "    <tr>\n",
       "      <th>2</th>\n",
       "      <td>1-64tN4ep6kWQ-x4Zj6iHvGB_a7ISeBiK.jpg</td>\n",
       "      <td>cocci.2.jpg</td>\n",
       "    </tr>\n",
       "    <tr>\n",
       "      <th>3</th>\n",
       "      <td>1a2ky2bDY4e8RoBVhp-tlpxGNDq_8QDLA.jpg</td>\n",
       "      <td>cocci.3.jpg</td>\n",
       "    </tr>\n",
       "    <tr>\n",
       "      <th>4</th>\n",
       "      <td>1_4FX18jP03cjNd5KXcQWEdviXF8SOIUM.jpg</td>\n",
       "      <td>cocci.4.jpg</td>\n",
       "    </tr>\n",
       "    <tr>\n",
       "      <th>5</th>\n",
       "      <td>1a84vDPtebxVCClmF3MlXae3keJB7QahE.jpg</td>\n",
       "      <td>cocci.5.jpg</td>\n",
       "    </tr>\n",
       "  </tbody>\n",
       "</table>\n",
       "</div>"
      ],
      "text/plain": [
       "                              OldImgName   NewImgName\n",
       "0  1_9N1QsVK8MwpOwCuq2eWF5zD_HLKFlYX.jpg  cocci.0.jpg\n",
       "1  1_3YeCKcE2NYmapBhgY25GbzNFTplgrz4.jpg  cocci.1.jpg\n",
       "2  1-64tN4ep6kWQ-x4Zj6iHvGB_a7ISeBiK.jpg  cocci.2.jpg\n",
       "3  1a2ky2bDY4e8RoBVhp-tlpxGNDq_8QDLA.jpg  cocci.3.jpg\n",
       "4  1_4FX18jP03cjNd5KXcQWEdviXF8SOIUM.jpg  cocci.4.jpg\n",
       "5  1a84vDPtebxVCClmF3MlXae3keJB7QahE.jpg  cocci.5.jpg"
      ]
     },
     "execution_count": 161,
     "metadata": {},
     "output_type": "execute_result"
    }
   ],
   "source": [
    "imgdict = {'OldImgName':oldimg_filename,'NewImgName':newimg_filename}\n",
    "imgdf = pd.DataFrame(imgdict)\n",
    "imgdf"
   ]
  },
  {
   "cell_type": "code",
   "execution_count": 162,
   "metadata": {},
   "outputs": [],
   "source": [
    "imgdf.to_csv('filenames.csv',index=False)"
   ]
  },
  {
   "cell_type": "code",
   "execution_count": 163,
   "metadata": {},
   "outputs": [
    {
     "data": {
      "text/html": [
       "<div>\n",
       "<style scoped>\n",
       "    .dataframe tbody tr th:only-of-type {\n",
       "        vertical-align: middle;\n",
       "    }\n",
       "\n",
       "    .dataframe tbody tr th {\n",
       "        vertical-align: top;\n",
       "    }\n",
       "\n",
       "    .dataframe thead th {\n",
       "        text-align: right;\n",
       "    }\n",
       "</style>\n",
       "<table border=\"1\" class=\"dataframe\">\n",
       "  <thead>\n",
       "    <tr style=\"text-align: right;\">\n",
       "      <th></th>\n",
       "      <th>OldImgName</th>\n",
       "      <th>NewImgName</th>\n",
       "    </tr>\n",
       "  </thead>\n",
       "  <tbody>\n",
       "    <tr>\n",
       "      <th>0</th>\n",
       "      <td>1_9N1QsVK8MwpOwCuq2eWF5zD_HLKFlYX.jpg</td>\n",
       "      <td>cocci.0.jpg</td>\n",
       "    </tr>\n",
       "    <tr>\n",
       "      <th>1</th>\n",
       "      <td>1_3YeCKcE2NYmapBhgY25GbzNFTplgrz4.jpg</td>\n",
       "      <td>cocci.1.jpg</td>\n",
       "    </tr>\n",
       "    <tr>\n",
       "      <th>2</th>\n",
       "      <td>1-64tN4ep6kWQ-x4Zj6iHvGB_a7ISeBiK.jpg</td>\n",
       "      <td>cocci.2.jpg</td>\n",
       "    </tr>\n",
       "    <tr>\n",
       "      <th>3</th>\n",
       "      <td>1a2ky2bDY4e8RoBVhp-tlpxGNDq_8QDLA.jpg</td>\n",
       "      <td>cocci.3.jpg</td>\n",
       "    </tr>\n",
       "    <tr>\n",
       "      <th>4</th>\n",
       "      <td>1_4FX18jP03cjNd5KXcQWEdviXF8SOIUM.jpg</td>\n",
       "      <td>cocci.4.jpg</td>\n",
       "    </tr>\n",
       "    <tr>\n",
       "      <th>5</th>\n",
       "      <td>1a84vDPtebxVCClmF3MlXae3keJB7QahE.jpg</td>\n",
       "      <td>cocci.5.jpg</td>\n",
       "    </tr>\n",
       "  </tbody>\n",
       "</table>\n",
       "</div>"
      ],
      "text/plain": [
       "                              OldImgName   NewImgName\n",
       "0  1_9N1QsVK8MwpOwCuq2eWF5zD_HLKFlYX.jpg  cocci.0.jpg\n",
       "1  1_3YeCKcE2NYmapBhgY25GbzNFTplgrz4.jpg  cocci.1.jpg\n",
       "2  1-64tN4ep6kWQ-x4Zj6iHvGB_a7ISeBiK.jpg  cocci.2.jpg\n",
       "3  1a2ky2bDY4e8RoBVhp-tlpxGNDq_8QDLA.jpg  cocci.3.jpg\n",
       "4  1_4FX18jP03cjNd5KXcQWEdviXF8SOIUM.jpg  cocci.4.jpg\n",
       "5  1a84vDPtebxVCClmF3MlXae3keJB7QahE.jpg  cocci.5.jpg"
      ]
     },
     "execution_count": 163,
     "metadata": {},
     "output_type": "execute_result"
    }
   ],
   "source": [
    "checkdf=pd.read_csv(\"filenames.csv\")\n",
    "checkdf"
   ]
  },
  {
   "cell_type": "code",
   "execution_count": null,
   "metadata": {},
   "outputs": [],
   "source": []
  },
  {
   "cell_type": "code",
   "execution_count": null,
   "metadata": {},
   "outputs": [],
   "source": []
  },
  {
   "cell_type": "code",
   "execution_count": null,
   "metadata": {},
   "outputs": [],
   "source": []
  },
  {
   "cell_type": "code",
   "execution_count": null,
   "metadata": {},
   "outputs": [],
   "source": []
  }
 ],
 "metadata": {
  "kernelspec": {
   "display_name": "Python 3",
   "language": "python",
   "name": "python3"
  },
  "language_info": {
   "codemirror_mode": {
    "name": "ipython",
    "version": 3
   },
   "file_extension": ".py",
   "mimetype": "text/x-python",
   "name": "python",
   "nbconvert_exporter": "python",
   "pygments_lexer": "ipython3",
   "version": "3.7.0"
  }
 },
 "nbformat": 4,
 "nbformat_minor": 4
}
